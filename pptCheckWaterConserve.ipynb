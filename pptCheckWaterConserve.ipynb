{
 "cells": [
  {
   "cell_type": "code",
   "execution_count": 1,
   "metadata": {
    "collapsed": true
   },
   "outputs": [],
   "source": [
    "import xarray as xr\n",
    "import numpy as np\n",
    "import matplotlib.pyplot as plt\n",
    "import cartopy.crs as ccrs\n",
    "%matplotlib qt"
   ]
  },
  {
   "cell_type": "code",
   "execution_count": 1,
   "metadata": {
    "collapsed": false
   },
   "outputs": [
    {
     "ename": "NameError",
     "evalue": "name 'xr' is not defined",
     "output_type": "error",
     "traceback": [
      "\u001b[1;31m---------------------------------------------------------------------------\u001b[0m",
      "\u001b[1;31mNameError\u001b[0m                                 Traceback (most recent call last)",
      "\u001b[1;32m<ipython-input-1-6ff8700f4d16>\u001b[0m in \u001b[0;36m<module>\u001b[1;34m()\u001b[0m\n\u001b[0;32m      1\u001b[0m \u001b[0mworkdir\u001b[0m\u001b[1;33m=\u001b[0m\u001b[1;34m'/Users/likkhian/Desktop/waterBudget'\u001b[0m\u001b[1;33m\u001b[0m\u001b[0m\n\u001b[1;32m----> 2\u001b[1;33m \u001b[0md01\u001b[0m\u001b[1;33m=\u001b[0m\u001b[0mxr\u001b[0m\u001b[1;33m.\u001b[0m\u001b[0mopen_dataset\u001b[0m\u001b[1;33m(\u001b[0m\u001b[0mworkdir\u001b[0m\u001b[1;33m+\u001b[0m\u001b[1;34m'/3waynofdda/wrfout_d01_2015cut'\u001b[0m\u001b[1;33m)\u001b[0m\u001b[1;33m\u001b[0m\u001b[0m\n\u001b[0m\u001b[0;32m      3\u001b[0m \u001b[0md02\u001b[0m\u001b[1;33m=\u001b[0m\u001b[0mxr\u001b[0m\u001b[1;33m.\u001b[0m\u001b[0mopen_dataset\u001b[0m\u001b[1;33m(\u001b[0m\u001b[0mworkdir\u001b[0m\u001b[1;33m+\u001b[0m\u001b[1;34m'/3waynofdda/wrfout_d02_2015cut'\u001b[0m\u001b[1;33m)\u001b[0m\u001b[1;33m\u001b[0m\u001b[0m\n\u001b[0;32m      4\u001b[0m \u001b[0md03\u001b[0m\u001b[1;33m=\u001b[0m\u001b[0mxr\u001b[0m\u001b[1;33m.\u001b[0m\u001b[0mopen_dataset\u001b[0m\u001b[1;33m(\u001b[0m\u001b[0mworkdir\u001b[0m\u001b[1;33m+\u001b[0m\u001b[1;34m'/3waynofdda/wrfout_d03_2015cut'\u001b[0m\u001b[1;33m)\u001b[0m\u001b[1;33m\u001b[0m\u001b[0m\n",
      "\u001b[1;31mNameError\u001b[0m: name 'xr' is not defined"
     ]
    }
   ],
   "source": [
    "workdir='/Users/likkhian/Desktop/waterBudget'\n",
    "d01=xr.open_dataset(workdir+'/3waynofdda/wrfout_d01_2015cut')\n",
    "d02=xr.open_dataset(workdir+'/3waynofdda/wrfout_d02_2015cut')\n",
    "d03=xr.open_dataset(workdir+'/3waynofdda/wrfout_d03_2015cut')"
   ]
  },
  {
   "cell_type": "markdown",
   "metadata": {},
   "source": [
    "code to view vars and attrs\n",
    "cut d03 at south_north,10,495 -d west_east,13,561\n",
    "cut d02 at south_north,121,282 -d west_east,28,210\n",
    "cut d01 at south_north,82,135 -d west_east,18,78\n",
    "print(d01.data_vars)\n",
    "for ii in d01.data_vars:\n",
    "    print(ii,d01[ii].attrs)\n",
    "    print('\\n')"
   ]
  },
  {
   "cell_type": "code",
   "execution_count": 3,
   "metadata": {
    "collapsed": false
   },
   "outputs": [
    {
     "name": "stdout",
     "output_type": "stream",
     "text": [
      "(9, 54, 61)\n",
      "(9, 162, 183)\n",
      "(9, 486, 549)\n",
      "<xarray.DataArray 'XLAT' (south_north: 54)>\n",
      "array([  8.72788239,   8.97020721,   9.21237183,   9.45436096,\n",
      "         9.69618988,   9.93783569,  10.17930603,  10.42060089,\n",
      "        10.66169739,  10.90261078,  11.14333344,  11.3838501 ,\n",
      "        11.6241684 ,  11.86427307,  12.10416412,  12.34384918,\n",
      "        12.58330536,  12.82254791,  13.06156158,  13.30033875,\n",
      "        13.53888702,  13.77719116,  14.01525879,  14.25307465,\n",
      "        14.49063873,  14.72795105,  14.96500397,  15.20179749,\n",
      "        15.4383316 ,  15.67458344,  15.91056824,  16.14627075,\n",
      "        16.38169861,  16.61685181,  16.85170746,  17.08626556,\n",
      "        17.32053375,  17.55450439,  17.78816986,  18.02153778,\n",
      "        18.2545929 ,  18.48733521,  18.71976471,  18.95187378,\n",
      "        19.18365479,  19.41511536,  19.64624786,  19.87705231,\n",
      "        20.10751343,  20.33763885,  20.56742096,  20.79685211,\n",
      "        21.02593994,  21.25467682], dtype=float32)\n",
      "Coordinates:\n",
      "    XLONG        (south_north) float32 95.1354 95.1354 95.1354 95.1354 ...\n",
      "    XLAT         (south_north) float32 8.72788 8.97021 9.21237 9.45436 ...\n",
      "    XTIME        datetime64[ns] 2015-08-01\n",
      "    Time         int64 0\n",
      "  * south_north  (south_north) int64 0 1 2 3 4 5 6 7 8 9 10 11 12 13 14 15 ...\n",
      "    west_east    int64 0\n",
      "Attributes:\n",
      "    units: degree_north\n",
      "    FieldType: 104\n",
      "    stagger: \n",
      "    description: LATITUDE, SOUTH IS NEGATIVE\n",
      "    MemoryOrder: XY \n",
      "<xarray.DataArray 'XLAT' (south_north: 162)>\n",
      "array([  8.48539734,   8.5662384 ,   8.64706421,   8.72787476,\n",
      "         8.80867004,   8.88944244,   8.97019958,   9.05093384,\n",
      "         9.13166046,   9.21235657,   9.29304504,   9.37371063,\n",
      "         9.45435333,   9.53498077,   9.61558533,   9.69617462,\n",
      "         9.77674103,   9.8572998 ,   9.93782806,  10.01833344,\n",
      "        10.09883118,  10.17929077,  10.25975037,  10.34017944,\n",
      "        10.42058563,  10.50097656,  10.5813446 ,  10.66169739,\n",
      "        10.74201965,  10.82231903,  10.90260315,  10.98285675,\n",
      "        11.06310272,  11.14331818,  11.22351074,  11.30369568,\n",
      "        11.38384247,  11.463974  ,  11.54406738,  11.62415314,\n",
      "        11.704216  ,  11.78424835,  11.86425781,  11.94425201,\n",
      "        12.02420807,  12.10415649,  12.1840744 ,  12.26396942,\n",
      "        12.34383392,  12.42368317,  12.50350189,  12.58330536,\n",
      "        12.66307068,  12.74282074,  12.82253265,  12.90222931,\n",
      "        12.98190308,  13.06155396,  13.14116669,  13.22076416,\n",
      "        13.30033875,  13.37987518,  13.4593811 ,  13.53887177,\n",
      "        13.61833191,  13.69777679,  13.7771759 ,  13.85656738,\n",
      "        13.93592072,  14.01524353,  14.09455109,  14.1738205 ,\n",
      "        14.25306702,  14.33228302,  14.41146851,  14.4906311 ,\n",
      "        14.56976318,  14.64886475,  14.72794342,  14.80698395,\n",
      "        14.88600922,  14.96499634,  15.04395294,  15.12287903,\n",
      "        15.20178986,  15.28066254,  15.35949707,  15.43831635,\n",
      "        15.51709747,  15.59585571,  15.67456818,  15.75326538,\n",
      "        15.83192444,  15.91056061,  15.98915863,  16.06772614,\n",
      "        16.14626312,  16.22477722,  16.30324554,  16.38169098,\n",
      "        16.46011353,  16.5384903 ,  16.61683655,  16.69515228,\n",
      "        16.7734375 ,  16.8516922 ,  16.92990875,  17.00810242,\n",
      "        17.08625793,  17.16437531,  17.24246979,  17.32052612,\n",
      "        17.39855194,  17.47654724,  17.55449677,  17.63241577,\n",
      "        17.71031189,  17.78816223,  17.86598969,  17.94377899,\n",
      "        18.02153015,  18.09924316,  18.17693329,  18.25458527,\n",
      "        18.3321991 ,  18.40978241,  18.48732758,  18.56484222,\n",
      "        18.6423111 ,  18.71975708,  18.79716492,  18.87452698,\n",
      "        18.95185852,  19.02915955,  19.10642242,  19.18364716,\n",
      "        19.26083374,  19.33798981,  19.41510773,  19.4921875 ,\n",
      "        19.56923676,  19.64624023,  19.7232132 ,  19.80014038,\n",
      "        19.87704468,  19.9539032 ,  20.03072357,  20.10749817,\n",
      "        20.18424988,  20.26096344,  20.33763123,  20.41426086,\n",
      "        20.49085236,  20.5674057 ,  20.6439209 ,  20.72039795,\n",
      "        20.79684448,  20.87324524,  20.94960785,  21.02593231,\n",
      "        21.102211  ,  21.17845917], dtype=float32)\n",
      "Coordinates:\n",
      "    XLONG        (south_north) float32 94.8902 94.8902 94.8902 94.8902 ...\n",
      "    XLAT         (south_north) float32 8.4854 8.56624 8.64706 8.72787 ...\n",
      "    XTIME        datetime64[ns] 2015-08-01\n",
      "    Time         int64 0\n",
      "  * south_north  (south_north) int64 0 1 2 3 4 5 6 7 8 9 10 11 12 13 14 15 ...\n",
      "    west_east    int64 0\n",
      "Attributes:\n",
      "    units: degree_north\n",
      "    FieldType: 104\n",
      "    stagger: \n",
      "    description: LATITUDE, SOUTH IS NEGATIVE\n",
      "    MemoryOrder: XY \n",
      "<xarray.DataArray 'XLAT' (south_north: 486)>\n",
      "array([  8.40454102,   8.43148804,   8.45845032,   8.48539734,\n",
      "         8.51234436,   8.53929138,   8.56624603,   8.5931778 ,\n",
      "         8.62012482,   8.64706421,   8.6740036 ,   8.70094299,\n",
      "         8.72787476,   8.75481415,   8.78173828,   8.80867004,\n",
      "         8.83560181,   8.86251831,   8.88944244,   8.91635895,\n",
      "         8.94328308,   8.97019958,   8.99710846,   9.02403259,\n",
      "         9.05093384,   9.07785034,   9.10475159,   9.13166046,\n",
      "         9.15855408,   9.18546295,   9.21235657,   9.23925781,\n",
      "         9.26615143,   9.29304504,   9.31993103,   9.34681702,\n",
      "         9.37371063,   9.40058899,   9.42747498,   9.45436096,\n",
      "         9.48123169,   9.50811005,   9.53498077,   9.5618515 ,\n",
      "         9.58872223,   9.61559296,   9.64245605,   9.66931915,\n",
      "         9.69618225,   9.72303772,   9.74989319,   9.77674866,\n",
      "         9.80360413,   9.83045959,   9.8572998 ,   9.88414764,\n",
      "         9.91098785,   9.93783569,   9.96466827,   9.99150848,\n",
      "        10.01834106,  10.04517365,  10.0719986 ,  10.09883118,\n",
      "        10.12565613,  10.15248108,  10.1792984 ,  10.20612335,\n",
      "        10.23294067,  10.25975037,  10.28656006,  10.31336975,\n",
      "        10.34017944,  10.36698914,  10.3937912 ,  10.42059326,\n",
      "        10.44739532,  10.47418213,  10.50097656,  10.527771  ,\n",
      "        10.5545578 ,  10.5813446 ,  10.60813141,  10.63491058,\n",
      "        10.66169739,  10.68846893,  10.71524811,  10.74201965,\n",
      "        10.7687912 ,  10.79556274,  10.82231903,  10.84909058,\n",
      "        10.87584686,  10.90261078,  10.92935944,  10.95611572,\n",
      "        10.98286438,  11.00961304,  11.03636169,  11.06311035,\n",
      "        11.08984375,  11.11657715,  11.14331818,  11.17005157,\n",
      "        11.19678497,  11.22351837,  11.25024414,  11.27696991,\n",
      "        11.30369568,  11.33040619,  11.35712433,  11.38384247,\n",
      "        11.41055298,  11.43725586,  11.463974  ,  11.49066925,\n",
      "        11.51737976,  11.54407501,  11.57077789,  11.59746552,\n",
      "        11.62415314,  11.65084839,  11.67752838,  11.704216  ,\n",
      "        11.730896  ,  11.75757599,  11.78424835,  11.81092072,\n",
      "        11.83759308,  11.86425781,  11.89092255,  11.91758728,\n",
      "        11.94425201,  11.97090912,  11.99756622,  12.0242157 ,\n",
      "        12.05086517,  12.07751465,  12.10415649,  12.13079834,\n",
      "        12.15744019,  12.1840744 ,  12.21070862,  12.23734283,\n",
      "        12.26396942,  12.29060364,  12.31721497,  12.34384155,\n",
      "        12.37046051,  12.39707184,  12.42368317,  12.45029449,\n",
      "        12.47689819,  12.50350189,  12.53010559,  12.55670166,\n",
      "        12.58330536,  12.6098938 ,  12.63648224,  12.66307068,\n",
      "        12.68965149,  12.71623993,  12.74282074,  12.76939392,\n",
      "        12.79597473,  12.82253265,  12.84910583,  12.87567902,\n",
      "        12.90223694,  12.92880249,  12.95535278,  12.98191071,\n",
      "        13.008461  ,  13.03500366,  13.06155396,  13.08809662,\n",
      "        13.11463928,  13.14117432,  13.16770935,  13.19423676,\n",
      "        13.22076416,  13.24729156,  13.27381134,  13.30033875,\n",
      "        13.32685089,  13.35336304,  13.37987518,  13.4063797 ,\n",
      "        13.43289185,  13.4593811 ,  13.48589325,  13.51238251,\n",
      "        13.53887177,  13.56536865,  13.59185791,  13.61833954,\n",
      "        13.64482117,  13.67129517,  13.69777679,  13.72425079,\n",
      "        13.75071716,  13.77718353,  13.80364227,  13.83010864,\n",
      "        13.85656738,  13.88301849,  13.9094696 ,  13.93592072,\n",
      "        13.9623642 ,  13.98881531,  14.01524353,  14.04168701,\n",
      "        14.06811523,  14.09455109,  14.12097931,  14.1473999 ,\n",
      "        14.1738205 ,  14.20024109,  14.22665405,  14.25306702,\n",
      "        14.27947235,  14.30587769,  14.33228302,  14.35868073,\n",
      "        14.38507843,  14.41146851,  14.43785858,  14.46424866,\n",
      "        14.4906311 ,  14.51701355,  14.54338837,  14.56976318,\n",
      "        14.59613037,  14.62250519,  14.64886475,  14.67523193,\n",
      "        14.70159149,  14.72794342,  14.75429535,  14.78064728,\n",
      "        14.80698395,  14.83333588,  14.85967255,  14.88600922,\n",
      "        14.91233826,  14.93867493,  14.96500397,  14.99131775,\n",
      "        15.01763916,  15.04396057,  15.07026672,  15.09658051,\n",
      "        15.12288666,  15.14919281,  15.17549133,  15.20178986,\n",
      "        15.22808838,  15.25437927,  15.28066254,  15.3069458 ,\n",
      "        15.33322144,  15.35949707,  15.38578033,  15.41204834,\n",
      "        15.43831635,  15.46458435,  15.4908371 ,  15.51709747,\n",
      "        15.54335785,  15.56960297,  15.59585571,  15.62210083,\n",
      "        15.64833832,  15.67457581,  15.70081329,  15.72704315,\n",
      "        15.75326538,  15.77948761,  15.80570984,  15.83192444,\n",
      "        15.85814667,  15.88435364,  15.91056061,  15.93675995,\n",
      "        15.96295929,  15.98915863,  16.01535797,  16.04154205,\n",
      "        16.06772614,  16.09391022,  16.12008667,  16.14627075,\n",
      "        16.17243958,  16.19860077,  16.22477722,  16.25093842,\n",
      "        16.27709198,  16.30324554,  16.32939911,  16.35554504,\n",
      "        16.38169098,  16.40783691,  16.43396759,  16.46011353,\n",
      "        16.48623657,  16.51235962,  16.5384903 ,  16.56460571,\n",
      "        16.59072113,  16.61683655,  16.64294434,  16.66905212,\n",
      "        16.69515228,  16.72125244,  16.74734497,  16.7734375 ,\n",
      "        16.79953003,  16.8256073 ,  16.8516922 ,  16.87776947,\n",
      "        16.90383911,  16.92990875,  16.95598602,  16.98204041,\n",
      "        17.00810242,  17.0341568 ,  17.06021118,  17.08625793,\n",
      "        17.11230469,  17.13834381,  17.16437531,  17.19041443,\n",
      "        17.21644592,  17.24247742,  17.26849365,  17.29451752,\n",
      "        17.32052612,  17.34654236,  17.37255096,  17.39855194,\n",
      "        17.42455292,  17.45054626,  17.47654724,  17.50253296,\n",
      "        17.52851868,  17.55449677,  17.58047485,  17.60644531,\n",
      "        17.63241577,  17.65839386,  17.68435669,  17.71031189,\n",
      "        17.73626709,  17.76221466,  17.78816223,  17.8141098 ,\n",
      "        17.84005737,  17.86598969,  17.891922  ,  17.91784668,\n",
      "        17.94377899,  17.96969604,  17.99562073,  18.02153015,\n",
      "        18.04743958,  18.073349  ,  18.09924316,  18.12515259,\n",
      "        18.15104675,  18.17693329,  18.20282745,  18.22870636,\n",
      "        18.25458527,  18.28045654,  18.30632782,  18.3321991 ,\n",
      "        18.35806274,  18.38392639,  18.40978241,  18.4356308 ,\n",
      "        18.46148682,  18.48732758,  18.51316833,  18.53900909,\n",
      "        18.56484222,  18.59067535,  18.61649323,  18.6423111 ,\n",
      "        18.6681366 ,  18.69394684,  18.71975708,  18.74556732,\n",
      "        18.7713623 ,  18.79716492,  18.82295227,  18.84874725,\n",
      "        18.87452698,  18.90031433,  18.92608643,  18.95186615,\n",
      "        18.97763824,  19.00340271,  19.02915955,  19.05491638,\n",
      "        19.08067322,  19.10642242,  19.13217163,  19.15791321,\n",
      "        19.18364716,  19.2093811 ,  19.23511505,  19.26084137,\n",
      "        19.28656006,  19.31227875,  19.33798981,  19.36370087,\n",
      "        19.3894043 ,  19.41510773,  19.44080353,  19.46649933,\n",
      "        19.4921875 ,  19.51787567,  19.54355621,  19.56923676,\n",
      "        19.59490967,  19.62057495,  19.64624023,  19.67189789,\n",
      "        19.69755554,  19.7232132 ,  19.74886322,  19.77450562,\n",
      "        19.80014038,  19.82578278,  19.85140991,  19.87704468,\n",
      "        19.90266418,  19.92828369,  19.9539032 ,  19.97950745,\n",
      "        20.00511169,  20.03072357,  20.05631256,  20.08191681,\n",
      "        20.10749817,  20.13308716,  20.15866852,  20.18424988,\n",
      "        20.20982361,  20.23539734,  20.26096344,  20.28652191,\n",
      "        20.31208038,  20.33763123,  20.36317444,  20.38871765,\n",
      "        20.41426086,  20.43979645,  20.4653244 ,  20.49085236,\n",
      "        20.51637268,  20.54189301,  20.56741333,  20.59291077,\n",
      "        20.61842346,  20.6439209 ,  20.66941833,  20.69491577,\n",
      "        20.72040558,  20.74588776,  20.77136993,  20.79684448,\n",
      "        20.82231903,  20.84778595,  20.87324524,  20.89871216,\n",
      "        20.92415619,  20.94960785,  20.97505188,  21.00049591,\n",
      "        21.02593231,  21.05136108,  21.07678986,  21.102211  ,\n",
      "        21.12763977,  21.15305328], dtype=float32)\n",
      "Coordinates:\n",
      "    XLONG        (south_north) float32 94.8084 94.8084 94.8084 94.8084 ...\n",
      "    XLAT         (south_north) float32 8.40454 8.43149 8.45845 8.4854 ...\n",
      "    XTIME        datetime64[ns] 2015-08-01\n",
      "    Time         int64 0\n",
      "  * south_north  (south_north) int64 0 1 2 3 4 5 6 7 8 9 10 11 12 13 14 15 ...\n",
      "    west_east    int64 0\n",
      "Attributes:\n",
      "    units: degree_north\n",
      "    FieldType: 104\n",
      "    stagger: \n",
      "    description: LATITUDE, SOUTH IS NEGATIVE\n",
      "    MemoryOrder: XY \n"
     ]
    }
   ],
   "source": [
    "print(d01.RAINC.shape)\n",
    "print(d02.RAINC.shape)\n",
    "print(d03.RAINC.shape)\n",
    "print(d01.XLAT[0,:,0])\n",
    "print(d02.XLAT[0,:,0])\n",
    "print(d03.XLAT[0,:,0])\n"
   ]
  },
  {
   "cell_type": "code",
   "execution_count": 4,
   "metadata": {
    "collapsed": false,
    "scrolled": true
   },
   "outputs": [
    {
     "name": "stdout",
     "output_type": "stream",
     "text": [
      "1\n",
      "2\n",
      "3\n",
      "4\n",
      "5\n",
      "6\n",
      "7\n",
      "8\n"
     ]
    }
   ],
   "source": [
    "raind01=np.empty([8,54,61])\n",
    "raind02=np.empty([8,162,183])\n",
    "raind03=np.empty([8,486,549])\n",
    "for ii in range(1,9):\n",
    "    print(ii)\n",
    "    raind01[ii-1]=(d01.RAINC[ii,:,:]-d01.RAINC[ii-1,:,:])+(d01.RAINNC[ii,:,:]-d01.RAINNC[ii-1,:,:])\n",
    "    raind02[ii-1]=(d02.RAINC[ii,:,:]-d02.RAINC[ii-1,:,:])+(d02.RAINNC[ii,:,:]-d02.RAINNC[ii-1,:,:])\n",
    "    raind03[ii-1]=(d03.RAINC[ii,:,:]-d03.RAINC[ii-1,:,:])+(d03.RAINNC[ii,:,:]-d03.RAINNC[ii-1,:,:])\n",
    "\n"
   ]
  },
  {
   "cell_type": "code",
   "execution_count": 12,
   "metadata": {
    "collapsed": false,
    "scrolled": true
   },
   "outputs": [
    {
     "name": "stdout",
     "output_type": "stream",
     "text": [
      "[ 356442.69777927  468652.59537506  539105.56134796  452242.14860344\n",
      "  470995.346313    615201.65770197  659006.79440117]\n",
      "[ 231979.92546058  345189.34671021  432982.24516296  365685.20652008\n",
      "  363888.43699837  413940.5322547   421838.91806602]\n",
      "[ 132690.0186789   182940.72711658  279486.97744894  256382.17765999\n",
      "  245961.04096565  288303.97839236  299836.86531043]\n"
     ]
    }
   ],
   "source": [
    "print(raind01*81)\n",
    "print(raind02*9)\n",
    "print(raind03)"
   ]
  },
  {
   "cell_type": "code",
   "execution_count": 27,
   "metadata": {
    "collapsed": false
   },
   "outputs": [],
   "source": [
    "plt.figure(1)\n",
    "plt.pcolor(raind01[0,:,:],vmin=0,vmax=50)\n",
    "plt.colorbar()\n",
    "plt.figure(2)\n",
    "plt.pcolor(raind02[0,:,:],vmin=0,vmax=50)\n",
    "plt.colorbar()\n",
    "plt.figure(3)\n",
    "plt.pcolor(raind03[0,:,:],vmin=0,vmax=50)\n",
    "plt.colorbar()\n",
    "plt.show()\n"
   ]
  },
  {
   "cell_type": "code",
   "execution_count": 31,
   "metadata": {
    "collapsed": false
   },
   "outputs": [
    {
     "name": "stdout",
     "output_type": "stream",
     "text": [
      "2.01867309446\n",
      "1.67449393462\n",
      "1.06044490594\n"
     ]
    }
   ],
   "source": [
    "print(np.average(np.average(raind01[2,:,:])))\n",
    "print(np.average(np.average(raind02[2,:,:])))\n",
    "print(np.average(np.average(raind03[2,:,:])))"
   ]
  },
  {
   "cell_type": "markdown",
   "metadata": {},
   "source": [
    "From newest run\n",
    "d01[ 4494.04999053  5847.97276306  6649.50907898  5637.32284164  5720.81284702\n",
    "  7527.07045507  7986.60803032  8234.31759262]\n",
    "d02[ 25430.89307904  37181.30161667  49642.04763031  42561.84369659\n",
    "  40515.41278648  44375.89221096  47459.0758667   42719.67413425]\n",
    "d03[ 163078.53554225  196817.87227154  282941.54413223  261391.75156975\n",
    "  248790.2686823   289772.38904345  319332.56106257  319080.64634895]"
   ]
  },
  {
   "cell_type": "markdown",
   "metadata": {},
   "source": [
    "RAINC+RAINNC: D01:39604.744612818584 D02:77326.6449586451 D03:132690.01867890358"
   ]
  },
  {
   "cell_type": "code",
   "execution_count": 46,
   "metadata": {
    "collapsed": false
   },
   "outputs": [
    {
     "name": "stderr",
     "output_type": "stream",
     "text": [
      "/Users/likkhian/anaconda/envs/python3/lib/python3.5/site-packages/matplotlib/artist.py:221: MatplotlibDeprecationWarning: This has been deprecated in mpl 1.5, please use the\n",
      "axes property.  A removal date has not been set.\n",
      "  warnings.warn(_get_axes_msg, mplDeprecation, stacklevel=1)\n"
     ]
    }
   ],
   "source": [
    "ax = plt.axes(projection=ccrs.Mercator())\n",
    "\n",
    "plt.pcolormesh(d01.XLONG[0,0,:],d01.XLAT[0,:,0],d01.RAINC[0,:,:],transform=ccrs.Mercator())\n",
    "ax.coastlines()\n",
    "plt.show()\n"
   ]
  },
  {
   "cell_type": "code",
   "execution_count": 119,
   "metadata": {
    "collapsed": false
   },
   "outputs": [
    {
     "name": "stdout",
     "output_type": "stream",
     "text": [
      "Data variables:\n",
      "    V10                    (Time, south_north, west_east) float32 3.55119 ...\n",
      "    SH2O                   (Time, soil_layers_stag, south_north, west_east) float32 1.0 ...\n",
      "    MAPFAC_UY              (Time, south_north, west_east_stag) float32 1.00187 ...\n",
      "    LWDNBC                 (Time, south_north, west_east) float32 406.946 ...\n",
      "    P_TOP                  (Time) float32 5000.0 5000.0 5000.0 5000.0 5000.0 ...\n",
      "    CF1                    (Time) float32 1.76177 1.76177 1.76177 1.76177 ...\n",
      "    TISO                   (Time) float32 200.0 200.0 200.0 200.0 200.0 ...\n",
      "    ITIMESTEP              (Time) int32 4460 4511 4561 4611 4661 4713 4763 4813\n",
      "    MUB                    (Time, south_north, west_east) float32 95000.0 ...\n",
      "    CF3                    (Time) float32 0.258698 0.258698 0.258698 ...\n",
      "    RDY                    (Time) float32 3.7037e-05 3.7037e-05 3.7037e-05 ...\n",
      "    F                      (Time, south_north, west_east) float32 2.213e-05 ...\n",
      "    QNICE                  (Time, bottom_top, south_north, west_east) float32 0.0 ...\n",
      "    RAINSH                 (Time, south_north, west_east) float32 0.0 0.0 ...\n",
      "    VAR_SSO                (Time, south_north, west_east) float32 0.0 0.0 ...\n",
      "    QNGRAUPEL              (Time, bottom_top, south_north, west_east) float32 0.0 ...\n",
      "    P                      (Time, bottom_top, south_north, west_east) float32 1098.42 ...\n",
      "    LAKEMASK               (Time, south_north, west_east) float32 0.0 0.0 ...\n",
      "    I_ACSWDNTC             (Time, south_north, west_east) int32 0 0 0 0 0 0 ...\n",
      "    VAR                    (Time, south_north, west_east) float32 0.0 0.0 ...\n",
      "    HGT                    (Time, south_north, west_east) float32 0.0 0.0 ...\n",
      "    TH2                    (Time, south_north, west_east) float32 299.751 ...\n",
      "    LH_FORCE_TEND          (Time) float32 0.0 0.0 0.0 0.0 0.0 0.0 0.0 0.0\n",
      "    T2                     (Time, south_north, west_east) float32 300.682 ...\n",
      "    U                      (Time, bottom_top, south_north, west_east_stag) float32 5.27925 ...\n",
      "    TSK_FORCE              (Time) float32 0.0 0.0 0.0 0.0 0.0 0.0 0.0 0.0\n",
      "    I_ACLWUPBC             (Time, south_north, west_east) int32 0 0 0 0 0 0 ...\n",
      "    LANDMASK               (Time, south_north, west_east) float32 0.0 0.0 ...\n",
      "    LWDNB                  (Time, south_north, west_east) float32 448.275 ...\n",
      "    NEST_POS               (Time, south_north, west_east) float32 0.0 0.0 ...\n",
      "    SWUPB                  (Time, south_north, west_east) float32 2.71666 ...\n",
      "    SST                    (Time, south_north, west_east) float32 302.63 ...\n",
      "    ACSWUPT                (Time, south_north, west_east) float32 8.641e+07 ...\n",
      "    RDN                    (Time, bottom_top) float32 0.0 -117.647 -86.9567 ...\n",
      "    ISEEDARR_SKEBS         (Time, bottom_top) int32 0 0 0 0 0 0 0 0 0 0 0 0 ...\n",
      "    ISLTYP                 (Time, south_north, west_east) int32 14 14 14 14 ...\n",
      "    LWUPB                  (Time, south_north, west_east) float32 475.075 ...\n",
      "    QNRAIN                 (Time, bottom_top, south_north, west_east) float32 0.0 ...\n",
      "    Times                  (Time) |S19 b'2015-08-01_00:00:00' ...\n",
      "    ACLWDNBC               (Time, south_north, west_east) float32 3.8512e+08 ...\n",
      "    ACSWUPB                (Time, south_north, west_east) float32 2.05663e+07 ...\n",
      "    QSNOW                  (Time, bottom_top, south_north, west_east) float32 0.0 ...\n",
      "    SWUPTC                 (Time, south_north, west_east) float32 28.817 ...\n",
      "    TSLB                   (Time, soil_layers_stag, south_north, west_east) float32 302.63 ...\n",
      "    GLW                    (Time, south_north, west_east) float32 448.275 ...\n",
      "    ACLWDNTC               (Time, south_north, west_east) float32 7.62484e+06 ...\n",
      "    Q2                     (Time, south_north, west_east) float32 0.0181714 ...\n",
      "    ACHFX                  (Time, south_north, west_east) float32 7.72205e+06 ...\n",
      "    SNOW                   (Time, south_north, west_east) float32 0.0 0.0 ...\n",
      "    U10                    (Time, south_north, west_east) float32 3.81304 ...\n",
      "    PH                     (Time, bottom_top_stag, south_north, west_east) float32 0.0 ...\n",
      "    SR                     (Time, south_north, west_east) float32 0.0 0.0 ...\n",
      "    LAI                    (Time, south_north, west_east) float32 0.0 0.0 ...\n",
      "    SAVE_TOPO_FROM_REAL    (Time) int32 0 0 0 0 0 0 0 0\n",
      "    LWUPT                  (Time, south_north, west_east) float32 241.229 ...\n",
      "    RDX                    (Time) float32 3.7037e-05 3.7037e-05 3.7037e-05 ...\n",
      "    TSK                    (Time, south_north, west_east) float32 302.63 ...\n",
      "    VEGFRA                 (Time, south_north, west_east) float32 0.0 0.0 ...\n",
      "    SWDNTC                 (Time, south_north, west_east) float32 141.042 ...\n",
      "    SFROFF                 (Time, south_north, west_east) float32 0.0 0.0 ...\n",
      "    MAPFAC_UX              (Time, south_north, west_east_stag) float32 1.00187 ...\n",
      "    QKE                    (Time, bottom_top, south_north, west_east) float32 0.834502 ...\n",
      "    LU_INDEX               (Time, south_north, west_east) float32 17.0 17.0 ...\n",
      "    CFN1                   (Time) float32 -0.459726 -0.459726 -0.459726 ...\n",
      "    I_ACLWUPTC             (Time, south_north, west_east) int32 0 0 0 0 0 0 ...\n",
      "    CLAT                   (Time, south_north, west_east) float32 8.72788 ...\n",
      "    TMN                    (Time, south_north, west_east) float32 301.965 ...\n",
      "    CANWAT                 (Time, south_north, west_east) float32 0.0 0.0 ...\n",
      "    HAILNC                 (Time, south_north, west_east) float32 0.0 0.0 ...\n",
      "    ACSWDNBC               (Time, south_north, west_east) float32 2.9876e+08 ...\n",
      "    SWDNB                  (Time, south_north, west_east) float32 33.9582 ...\n",
      "    I_ACSWUPB              (Time, south_north, west_east) int32 0 0 0 0 0 0 ...\n",
      "    GRDFLX                 (Time, south_north, west_east) float32 0.0 0.0 ...\n",
      "    I_ACSWDNB              (Time, south_north, west_east) int32 0 0 0 0 0 0 ...\n",
      "    ALBEDO                 (Time, south_north, west_east) float32 0.08 0.08 ...\n",
      "    ACLWUPB                (Time, south_north, west_east) float32 4.49687e+08 ...\n",
      "    GRAUPELNC              (Time, south_north, west_east) float32 1.49197e-19 ...\n",
      "    HFX                    (Time, south_north, west_east) float32 17.1582 ...\n",
      "    I_ACSWUPT              (Time, south_north, west_east) int32 0 0 0 0 0 0 ...\n",
      "    SNOWH                  (Time, south_north, west_east) float32 0.0 0.0 ...\n",
      "    ACSWDNTC               (Time, south_north, west_east) float32 4.06875e+08 ...\n",
      "    DNW                    (Time, bottom_top) float32 -0.00700003 ...\n",
      "    SMOIS                  (Time, soil_layers_stag, south_north, west_east) float32 1.0 ...\n",
      "    MAPFAC_MY              (Time, south_north, west_east) float32 1.00187 ...\n",
      "    MAX_MSTFY              (Time) float32 1.10568 1.10568 1.10568 1.10568 ...\n",
      "    P_STRAT                (Time) float32 0.0 0.0 0.0 0.0 0.0 0.0 0.0 0.0\n",
      "    I_ACLWDNT              (Time, south_north, west_east) int32 0 0 0 0 0 0 ...\n",
      "    SST_INPUT              (Time, south_north, west_east) float32 0.0 0.0 ...\n",
      "    P_HYD                  (Time, bottom_top, south_north, west_east) float32 100751.0 ...\n",
      "    ACLWUPT                (Time, south_north, west_east) float32 2.19938e+08 ...\n",
      "    RESM                   (Time) float32 0.0 0.0 0.0 0.0 0.0 0.0 0.0 0.0\n",
      "    CFN                    (Time) float32 1.45973 1.45973 1.45973 1.45973 ...\n",
      "    SWUPBC                 (Time, south_north, west_east) float32 5.42485 ...\n",
      "    LH                     (Time, south_north, west_east) float32 165.873 ...\n",
      "    SWDOWN                 (Time, south_north, west_east) float32 33.9582 ...\n",
      "    ZNU                    (Time, bottom_top) float32 0.9965 0.988 0.9765 ...\n",
      "    QCLOUD                 (Time, bottom_top, south_north, west_east) float32 0.0 ...\n",
      "    QGRAUP                 (Time, bottom_top, south_north, west_east) float32 0.0 ...\n",
      "    T                      (Time, bottom_top, south_north, west_east) float32 -0.481508 ...\n",
      "    ACLWDNT                (Time, south_north, west_east) float32 7.62484e+06 ...\n",
      "    MAPFAC_MX              (Time, south_north, west_east) float32 1.00187 ...\n",
      "    LWDNT                  (Time, south_north, west_east) float32 8.12789 ...\n",
      "    ACLWUPTC               (Time, south_north, west_east) float32 2.63483e+08 ...\n",
      "    ZETATOP                (Time) float32 0.0 0.0 0.0 0.0 0.0 0.0 0.0 0.0\n",
      "    LH_FORCE               (Time) float32 0.0 0.0 0.0 0.0 0.0 0.0 0.0 0.0\n",
      "    SNOWNC                 (Time, south_north, west_east) float32 3.18183e-14 ...\n",
      "    COSZEN                 (Time, south_north, west_east) float32 0.106131 ...\n",
      "    SWUPT                  (Time, south_north, west_east) float32 72.3163 ...\n",
      "    SNOWC                  (Time, south_north, west_east) float32 0.0 0.0 ...\n",
      "    QICE                   (Time, bottom_top, south_north, west_east) float32 0.0 ...\n",
      "    PHB                    (Time, bottom_top_stag, south_north, west_east) float32 0.0 ...\n",
      "    UDROFF                 (Time, south_north, west_east) float32 0.0 0.0 ...\n",
      "    I_ACLWDNTC             (Time, south_north, west_east) int32 0 0 0 0 0 0 ...\n",
      "    FNM                    (Time, bottom_top) float32 0.0 0.411766 0.434783 ...\n",
      "    ACSNOM                 (Time, south_north, west_east) float32 0.0 0.0 ...\n",
      "    MF_VX_INV              (Time, south_north_stag, west_east) float32 0.989923 ...\n",
      "    SINALPHA               (Time, south_north, west_east) float32 0.0 0.0 ...\n",
      "    ACLHF                  (Time, south_north, west_east) float32 1.33414e+08 ...\n",
      "    EL_PBL                 (Time, bottom_top_stag, south_north, west_east) float32 0.0 ...\n",
      "    MU                     (Time, south_north, west_east) float32 579.486 ...\n",
      "    MAPFAC_U               (Time, south_north, west_east_stag) float32 1.00187 ...\n",
      "    MAPFAC_VX              (Time, south_north_stag, west_east) float32 1.01018 ...\n",
      "    I_ACSWUPBC             (Time, south_north, west_east) int32 0 0 0 0 0 0 ...\n",
      "    HFX_FORCE              (Time) float32 0.0 0.0 0.0 0.0 0.0 0.0 0.0 0.0\n",
      "    SMCREL                 (Time, soil_layers_stag, south_north, west_east) float32 1.0 ...\n",
      "    CF2                    (Time) float32 -1.02047 -1.02047 -1.02047 ...\n",
      "    I_ACLWDNB              (Time, south_north, west_east) int32 0 0 0 0 0 0 ...\n",
      "    E                      (Time, south_north, west_east) float32 0.000144151 ...\n",
      "    ACSWUPTC               (Time, south_north, west_east) float32 4.24456e+07 ...\n",
      "    W                      (Time, bottom_top_stag, south_north, west_east) float32 0.0 ...\n",
      "    MAPFAC_V               (Time, south_north_stag, west_east) float32 1.01018 ...\n",
      "    THIS_IS_AN_IDEAL_RUN   (Time) int32 0 0 0 0 0 0 0 0\n",
      "    TKE_PBL                (Time, bottom_top_stag, south_north, west_east) float32 0.417251 ...\n",
      "    SHDMAX                 (Time, south_north, west_east) float32 0.0 0.0 ...\n",
      "    SWNORM                 (Time, south_north, west_east) float32 0.0 0.0 ...\n",
      "    OLR                    (Time, south_north, west_east) float32 241.731 ...\n",
      "    SHDMIN                 (Time, south_north, west_east) float32 0.0 0.0 ...\n",
      "    DZS                    (Time, soil_layers_stag) float32 0.1 0.3 0.6 1.0 ...\n",
      "    RAINC                  (Time, south_north, west_east) float32 25.4555 ...\n",
      "    ACSWDNB                (Time, south_north, west_east) float32 2.57079e+08 ...\n",
      "    LWDNTC                 (Time, south_north, west_east) float32 8.12789 ...\n",
      "    LWUPTC                 (Time, south_north, west_east) float32 269.365 ...\n",
      "    T00                    (Time) float32 290.0 290.0 290.0 290.0 290.0 ...\n",
      "    HFX_FORCE_TEND         (Time) float32 0.0 0.0 0.0 0.0 0.0 0.0 0.0 0.0\n",
      "    XLAND                  (Time, south_north, west_east) float32 2.0 2.0 ...\n",
      "    ZS                     (Time, soil_layers_stag) float32 0.05 0.25 0.7 ...\n",
      "    I_ACSWUPTC             (Time, south_north, west_east) int32 0 0 0 0 0 0 ...\n",
      "    PBLH                   (Time, south_north, west_east) float32 842.4 ...\n",
      "    TLP_STRAT              (Time) float32 -11.0 -11.0 -11.0 -11.0 -11.0 ...\n",
      "    ZNW                    (Time, bottom_top_stag) float32 1.0 0.993 0.983 ...\n",
      "    QVAPOR                 (Time, bottom_top, south_north, west_east) float32 0.0179066 ...\n",
      "    ACGRDFLX               (Time, south_north, west_east) float32 0.0 0.0 ...\n",
      "    TSK_FORCE_TEND         (Time) float32 0.0 0.0 0.0 0.0 0.0 0.0 0.0 0.0\n",
      "    SNOALB                 (Time, south_north, west_east) float32 0.08 0.08 ...\n",
      "    I_ACSWDNBC             (Time, south_north, west_east) int32 0 0 0 0 0 0 ...\n",
      "    RDNW                   (Time, bottom_top) float32 -142.857 -100.0 ...\n",
      "    DN                     (Time, bottom_top) float32 0.0 -0.00850001 ...\n",
      "    ALBBCK                 (Time, south_north, west_east) float32 0.08 0.08 ...\n",
      "    I_ACLWUPB              (Time, south_north, west_east) int32 0 0 0 0 0 0 ...\n",
      "    I_ACSWDNT              (Time, south_north, west_east) int32 0 0 0 0 0 0 ...\n",
      "    NOAHRES                (Time, south_north, west_east) float32 0.0 0.0 ...\n",
      "    SSTSK                  (Time, south_north, west_east) float32 0.0 0.0 ...\n",
      "    SEAICE                 (Time, south_north, west_east) float32 0.0 0.0 ...\n",
      "    SWDNT                  (Time, south_north, west_east) float32 141.042 ...\n",
      "    PB                     (Time, bottom_top, south_north, west_east) float32 99667.5 ...\n",
      "    LWUPBC                 (Time, south_north, west_east) float32 474.248 ...\n",
      "    XICEM                  (Time, south_north, west_east) float32 0.0 0.0 ...\n",
      "    ACSWUPBC               (Time, south_north, west_east) float32 2.39008e+07 ...\n",
      "    ISEEDARR_SPPT          (Time, bottom_top) int32 0 0 0 0 0 0 0 0 0 0 0 0 ...\n",
      "    FNP                    (Time, bottom_top) float32 0.0 0.588234 0.565217 ...\n",
      "    P00                    (Time) float32 100000.0 100000.0 100000.0 ...\n",
      "    CLDFRA                 (Time, bottom_top, south_north, west_east) float32 0.0 ...\n",
      "    QNSNOW                 (Time, bottom_top, south_north, west_east) float32 0.0 ...\n",
      "    I_ACLWUPT              (Time, south_north, west_east) int32 0 0 0 0 0 0 ...\n",
      "    TLP                    (Time) float32 50.0 50.0 50.0 50.0 50.0 50.0 50.0 ...\n",
      "    ACLWUPBC               (Time, south_north, west_east) float32 4.49507e+08 ...\n",
      "    HFX_FDDA               (Time, bottom_top, south_north, west_east) float32 0.0 ...\n",
      "    UST                    (Time, south_north, west_east) float32 0.218921 ...\n",
      "    ACLWDNB                (Time, south_north, west_east) float32 3.93893e+08 ...\n",
      "    RAINNC                 (Time, south_north, west_east) float32 0.287675 ...\n",
      "    ISEEDARR_RAND_PERTURB  (Time, bottom_top) int32 0 0 0 0 0 0 0 0 0 0 0 0 ...\n",
      "    SWDNBC                 (Time, south_north, west_east) float32 67.8106 ...\n",
      "    COSALPHA               (Time, south_north, west_east) float32 1.0 1.0 ...\n",
      "    I_ACLWDNBC             (Time, south_north, west_east) int32 0 0 0 0 0 0 ...\n",
      "    PSFC                   (Time, south_north, west_east) float32 101092.0 ...\n",
      "    MAPFAC_M               (Time, south_north, west_east) float32 1.00187 ...\n",
      "    QFX                    (Time, south_north, west_east) float32 6.6349e-05 ...\n",
      "    MAPFAC_VY              (Time, south_north_stag, west_east) float32 1.01018 ...\n",
      "    IVGTYP                 (Time, south_north, west_east) int32 17 17 17 17 ...\n",
      "    EMISS                  (Time, south_north, west_east) float32 0.98 0.98 ...\n",
      "    QRAIN                  (Time, bottom_top, south_north, west_east) float32 0.0 ...\n",
      "    MAX_MSTFX              (Time) float32 1.10568 1.10568 1.10568 1.10568 ...\n",
      "    V                      (Time, bottom_top, south_north_stag, west_east) float32 2.02712 ...\n",
      "    ACSWDNT                (Time, south_north, west_east) float32 4.06875e+08 ...\n"
     ]
    }
   ],
   "source": [
    "print(d01.data_vars)"
   ]
  },
  {
   "cell_type": "code",
   "execution_count": null,
   "metadata": {
    "collapsed": true
   },
   "outputs": [],
   "source": []
  },
  {
   "cell_type": "code",
   "execution_count": null,
   "metadata": {
    "collapsed": true
   },
   "outputs": [],
   "source": []
  },
  {
   "cell_type": "code",
   "execution_count": 75,
   "metadata": {
    "collapsed": false
   },
   "outputs": [
    {
     "data": {
      "text/plain": [
       "61.0"
      ]
     },
     "execution_count": 75,
     "metadata": {},
     "output_type": "execute_result"
    }
   ],
   "source": []
  },
  {
   "cell_type": "code",
   "execution_count": 141,
   "metadata": {
    "collapsed": false
   },
   "outputs": [
    {
     "ename": "ImportError",
     "evalue": "No module named 'beautifulsoup'",
     "output_type": "error",
     "traceback": [
      "\u001b[0;31m---------------------------------------------------------------------------\u001b[0m",
      "\u001b[0;31mImportError\u001b[0m                               Traceback (most recent call last)",
      "\u001b[0;32m<ipython-input-141-f4bde264cf6b>\u001b[0m in \u001b[0;36m<module>\u001b[0;34m()\u001b[0m\n\u001b[0;32m----> 1\u001b[0;31m \u001b[0;32mimport\u001b[0m \u001b[0mbeautifulsoup\u001b[0m \u001b[0;32mas\u001b[0m \u001b[0msoup\u001b[0m\u001b[0;34m\u001b[0m\u001b[0m\n\u001b[0m",
      "\u001b[0;31mImportError\u001b[0m: No module named 'beautifulsoup'"
     ]
    }
   ],
   "source": []
  }
 ],
 "metadata": {
  "anaconda-cloud": {},
  "kernelspec": {
   "display_name": "Python 3",
   "language": "python",
   "name": "python3"
  },
  "language_info": {
   "codemirror_mode": {
    "name": "ipython",
    "version": 3
   },
   "file_extension": ".py",
   "mimetype": "text/x-python",
   "name": "python",
   "nbconvert_exporter": "python",
   "pygments_lexer": "ipython3",
   "version": "3.5.2"
  }
 },
 "nbformat": 4,
 "nbformat_minor": 1
}
